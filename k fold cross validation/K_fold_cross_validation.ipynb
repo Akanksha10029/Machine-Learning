{
  "nbformat": 4,
  "nbformat_minor": 0,
  "metadata": {
    "colab": {
      "provenance": []
    },
    "kernelspec": {
      "name": "python3",
      "display_name": "Python 3"
    },
    "language_info": {
      "name": "python"
    }
  },
  "cells": [
    {
      "cell_type": "code",
      "execution_count": 1,
      "metadata": {
        "id": "E9pFireev0iI"
      },
      "outputs": [],
      "source": [
        "import pandas as pd\n",
        "from sklearn.linear_model import LogisticRegression\n",
        "from sklearn.ensemble import RandomForestClassifier\n",
        "from sklearn.svm import SVC\n",
        "import numpy as np\n",
        "from sklearn.datasets import load_digits\n",
        "digits = load_digits()"
      ]
    },
    {
      "cell_type": "code",
      "source": [
        "from sklearn.model_selection import train_test_split\n",
        "x_train,x_test,y_train,y_test = train_test_split(digits.data,digits.target,test_size=0.2)"
      ],
      "metadata": {
        "id": "Pm835sDkyFZ3"
      },
      "execution_count": 2,
      "outputs": []
    },
    {
      "cell_type": "markdown",
      "source": [
        "**Logistic Regression**"
      ],
      "metadata": {
        "id": "kYR3CNoL3khO"
      }
    },
    {
      "cell_type": "code",
      "source": [
        "lr = LogisticRegression()\n",
        "lr.fit(x_train,y_train)\n",
        "lr.score(x_test,y_test)"
      ],
      "metadata": {
        "colab": {
          "base_uri": "https://localhost:8080/"
        },
        "id": "RxI_KfxQytQx",
        "outputId": "2e0e548f-38e2-4b11-8caf-cad1642ed68b"
      },
      "execution_count": 3,
      "outputs": [
        {
          "output_type": "stream",
          "name": "stderr",
          "text": [
            "/usr/local/lib/python3.10/dist-packages/sklearn/linear_model/_logistic.py:458: ConvergenceWarning: lbfgs failed to converge (status=1):\n",
            "STOP: TOTAL NO. of ITERATIONS REACHED LIMIT.\n",
            "\n",
            "Increase the number of iterations (max_iter) or scale the data as shown in:\n",
            "    https://scikit-learn.org/stable/modules/preprocessing.html\n",
            "Please also refer to the documentation for alternative solver options:\n",
            "    https://scikit-learn.org/stable/modules/linear_model.html#logistic-regression\n",
            "  n_iter_i = _check_optimize_result(\n"
          ]
        },
        {
          "output_type": "execute_result",
          "data": {
            "text/plain": [
              "0.9638888888888889"
            ]
          },
          "metadata": {},
          "execution_count": 3
        }
      ]
    },
    {
      "cell_type": "code",
      "source": [
        "from sklearn.preprocessing import StandardScaler\n",
        "\n",
        "scaler = StandardScaler()\n",
        "x_train_scaled = scaler.fit_transform(x_train)\n",
        "x_test_scaled = scaler.transform(x_test)\n",
        "\n",
        "lr = LogisticRegression(max_iter=1000)\n",
        "lr.fit(x_train_scaled, y_train)\n",
        "accuracy = lr.score(x_test_scaled, y_test)\n",
        "print(f\"Accuracy: {accuracy}\")\n"
      ],
      "metadata": {
        "colab": {
          "base_uri": "https://localhost:8080/"
        },
        "id": "Ku7ah1GP2sxE",
        "outputId": "6913fbf1-33ed-4944-b5ae-af81c60168ab"
      },
      "execution_count": 4,
      "outputs": [
        {
          "output_type": "stream",
          "name": "stdout",
          "text": [
            "Accuracy: 0.9638888888888889\n"
          ]
        }
      ]
    },
    {
      "cell_type": "markdown",
      "source": [
        "**SVM**"
      ],
      "metadata": {
        "id": "oae8Ho6M3qUO"
      }
    },
    {
      "cell_type": "code",
      "source": [
        "svm = SVC()\n",
        "svm.fit(x_train,y_train)\n",
        "svm.score(x_test,y_test)"
      ],
      "metadata": {
        "colab": {
          "base_uri": "https://localhost:8080/"
        },
        "id": "K-Fm74nG0ZXd",
        "outputId": "0cabdb96-bfe6-454e-e884-071a481b8ee1"
      },
      "execution_count": 5,
      "outputs": [
        {
          "output_type": "execute_result",
          "data": {
            "text/plain": [
              "0.9833333333333333"
            ]
          },
          "metadata": {},
          "execution_count": 5
        }
      ]
    },
    {
      "cell_type": "markdown",
      "source": [
        "**Random Forest**"
      ],
      "metadata": {
        "id": "_L_E-aEI3sXw"
      }
    },
    {
      "cell_type": "code",
      "source": [
        "rf=RandomForestClassifier()\n",
        "rf.fit(x_train,y_train)\n",
        "rf.score(x_test,y_test)"
      ],
      "metadata": {
        "colab": {
          "base_uri": "https://localhost:8080/"
        },
        "id": "awQgfZng8Lbw",
        "outputId": "363b8192-273a-42f5-91cc-093d140cd7b6"
      },
      "execution_count": 6,
      "outputs": [
        {
          "output_type": "execute_result",
          "data": {
            "text/plain": [
              "0.9611111111111111"
            ]
          },
          "metadata": {},
          "execution_count": 6
        }
      ]
    },
    {
      "cell_type": "markdown",
      "source": [
        "#KFold cross validation\n",
        "**Basic example**"
      ],
      "metadata": {
        "id": "FBX4ezbx7OlS"
      }
    },
    {
      "cell_type": "code",
      "source": [
        "from sklearn.model_selection import KFold\n",
        "kf = KFold(n_splits=4)\n",
        "kf"
      ],
      "metadata": {
        "colab": {
          "base_uri": "https://localhost:8080/"
        },
        "id": "Sdddaujd9F8f",
        "outputId": "a8d26432-d1bd-4c5c-fa79-84e3950aa868"
      },
      "execution_count": 7,
      "outputs": [
        {
          "output_type": "execute_result",
          "data": {
            "text/plain": [
              "KFold(n_splits=4, random_state=None, shuffle=False)"
            ]
          },
          "metadata": {},
          "execution_count": 7
        }
      ]
    },
    {
      "cell_type": "markdown",
      "source": [
        "**kf.split will return an iterator and iterator will return train_index and test_index**"
      ],
      "metadata": {
        "id": "rqf52joc878z"
      }
    },
    {
      "cell_type": "code",
      "source": [
        "for train_index, test_index in kf.split([1,2,3,4,5,6,7,8,9,10]):\n",
        "  print(train_index, test_index)"
      ],
      "metadata": {
        "colab": {
          "base_uri": "https://localhost:8080/"
        },
        "id": "HzhTRmCc4685",
        "outputId": "b0abd5cc-955e-45df-c721-d041cc989d3f"
      },
      "execution_count": 8,
      "outputs": [
        {
          "output_type": "stream",
          "name": "stdout",
          "text": [
            "[3 4 5 6 7 8 9] [0 1 2]\n",
            "[0 1 2 6 7 8 9] [3 4 5]\n",
            "[0 1 2 3 4 5 8 9] [6 7]\n",
            "[0 1 2 3 4 5 6 7] [8 9]\n"
          ]
        }
      ]
    },
    {
      "cell_type": "markdown",
      "source": [
        "**Above we can see that kf.split divided this [1,2,3,4,5,6,7,8,9,10] into 4 folds**\n",
        "1.   **First Iteration (Fold 1):**\n",
        "\n",
        "    *  Training indices: [3, 4, 5, 6, 7, 8, 9]\n",
        "    *  Testing indices: [0, 1, 2]\n",
        "\n",
        "2.   **Second Iteration (Fold 2):**\n",
        "\n",
        "    *  Training indices: [0, 1, 2, 6, 7, 8, 9]\n",
        "    *  Testing indices: [3, 4, 5]\n",
        "\n",
        "3.   **Third Iteration (Fold 3):**\n",
        "\n",
        "    *  Training indices: [0, 1, 2, 3, 4, 5, 8, 9]\n",
        "    *  Testing indices: [6, 7]\n",
        "\n",
        "4.   **Fourth Iteration (Fold 4):**\n",
        "\n",
        "    *  Training indices: [0, 1, 2, 3, 4, 5, 6, 7]\n",
        "    *  Testing indices: [8, 9]"
      ],
      "metadata": {
        "id": "bDMzyfJM9yTK"
      }
    },
    {
      "cell_type": "markdown",
      "source": [
        "**Now instead of writing all these codes individually. So we can make a function and call the model according to our requirement instead of writing whole code again and again**"
      ],
      "metadata": {
        "id": "OawKAqbsQR7_"
      }
    },
    {
      "cell_type": "code",
      "source": [
        "def get_score(model, x_train, x_test, y_train, y_test):\n",
        "    model.fit(x_train, y_train)\n",
        "    return model.score(x_test, y_test)"
      ],
      "metadata": {
        "id": "9-QsElTk7UqN"
      },
      "execution_count": 9,
      "outputs": []
    },
    {
      "cell_type": "code",
      "source": [
        "get_score(LogisticRegression(),x_train, x_test, y_train, y_test)"
      ],
      "metadata": {
        "colab": {
          "base_uri": "https://localhost:8080/"
        },
        "id": "naupZNDwNhiW",
        "outputId": "1b453ca6-8285-4fe8-9c44-c58ec416d874"
      },
      "execution_count": 10,
      "outputs": [
        {
          "output_type": "stream",
          "name": "stderr",
          "text": [
            "/usr/local/lib/python3.10/dist-packages/sklearn/linear_model/_logistic.py:458: ConvergenceWarning: lbfgs failed to converge (status=1):\n",
            "STOP: TOTAL NO. of ITERATIONS REACHED LIMIT.\n",
            "\n",
            "Increase the number of iterations (max_iter) or scale the data as shown in:\n",
            "    https://scikit-learn.org/stable/modules/preprocessing.html\n",
            "Please also refer to the documentation for alternative solver options:\n",
            "    https://scikit-learn.org/stable/modules/linear_model.html#logistic-regression\n",
            "  n_iter_i = _check_optimize_result(\n"
          ]
        },
        {
          "output_type": "execute_result",
          "data": {
            "text/plain": [
              "0.9638888888888889"
            ]
          },
          "metadata": {},
          "execution_count": 10
        }
      ]
    },
    {
      "cell_type": "code",
      "source": [
        "get_score(SVC(),x_train, x_test, y_train, y_test)"
      ],
      "metadata": {
        "colab": {
          "base_uri": "https://localhost:8080/"
        },
        "id": "SMNqvO3GPhf-",
        "outputId": "c694d92f-5dda-4433-c215-d1d6c2f94a2d"
      },
      "execution_count": 11,
      "outputs": [
        {
          "output_type": "execute_result",
          "data": {
            "text/plain": [
              "0.9833333333333333"
            ]
          },
          "metadata": {},
          "execution_count": 11
        }
      ]
    },
    {
      "cell_type": "code",
      "source": [
        "get_score(RandomForestClassifier(),x_train, x_test, y_train, y_test)"
      ],
      "metadata": {
        "colab": {
          "base_uri": "https://localhost:8080/"
        },
        "id": "ZCw1OhfjPzKp",
        "outputId": "354de9b7-e3df-48ff-a3cb-f959ddca51c3"
      },
      "execution_count": 12,
      "outputs": [
        {
          "output_type": "execute_result",
          "data": {
            "text/plain": [
              "0.9638888888888889"
            ]
          },
          "metadata": {},
          "execution_count": 12
        }
      ]
    },
    {
      "cell_type": "markdown",
      "source": [
        "**KFold simply divides the dataset into k folds without considering the class distribution, while StratifiedKFold ensures that each fold maintains the same class distribution as the original dataset, which can be crucial for certain machine learning tasks, especially in classification with imbalanced data.**"
      ],
      "metadata": {
        "id": "zt3HajoSFnU7"
      }
    },
    {
      "cell_type": "code",
      "source": [
        "def get_score(model, x_train, x_test, y_train, y_test):\n",
        "    model.fit(x_train, y_train)\n",
        "    return model.score(x_test, y_test)"
      ],
      "metadata": {
        "id": "k0xzjb-8hv-2"
      },
      "execution_count": 13,
      "outputs": []
    },
    {
      "cell_type": "code",
      "source": [
        "from sklearn.model_selection import StratifiedKFold\n",
        "folds=StratifiedKFold(n_splits=4)"
      ],
      "metadata": {
        "id": "RABs77METS53"
      },
      "execution_count": 14,
      "outputs": []
    },
    {
      "cell_type": "code",
      "source": [
        "scores_l=[]\n",
        "scores_svm=[]\n",
        "scores_rf=[]\n",
        "for train_index,test_index in kf.split(digits.data):\n",
        "  x_train,x_test,y_train,y_test=digits.data[train_index],digits.data[test_index],\\\n",
        "                                digits.target[train_index],digits.target[test_index]\n",
        "\n",
        "  scores_l.append(get_score(LogisticRegression(max_iter=1000,solver='liblinear',multi_class='ovr'),x_train,x_test,y_train,y_test))\n",
        "  scores_svm.append(get_score(SVC(gamma='auto',C=3.0, kernel='rbf'),x_train,x_test,y_train,y_test))\n",
        "  scores_rf.append(get_score(RandomForestClassifier(n_estimators=40),x_train,x_test,y_train,y_test))"
      ],
      "metadata": {
        "id": "43mgKzQjo1hM"
      },
      "execution_count": 15,
      "outputs": []
    },
    {
      "cell_type": "code",
      "source": [
        "scores_l"
      ],
      "metadata": {
        "colab": {
          "base_uri": "https://localhost:8080/"
        },
        "id": "H2rzfKixrOXb",
        "outputId": "db8c563a-2e62-490e-b484-a27bc32efae5"
      },
      "execution_count": 16,
      "outputs": [
        {
          "output_type": "execute_result",
          "data": {
            "text/plain": [
              "[0.9266666666666666,\n",
              " 0.9265033407572383,\n",
              " 0.9576837416481069,\n",
              " 0.9020044543429844]"
            ]
          },
          "metadata": {},
          "execution_count": 16
        }
      ]
    },
    {
      "cell_type": "code",
      "source": [
        "scores_svm"
      ],
      "metadata": {
        "colab": {
          "base_uri": "https://localhost:8080/"
        },
        "id": "rMTMfkY3r6GD",
        "outputId": "8fa9eb1f-a363-40ce-dfcd-adf58e4abeff"
      },
      "execution_count": 17,
      "outputs": [
        {
          "output_type": "execute_result",
          "data": {
            "text/plain": [
              "[0.4777777777777778,\n",
              " 0.42538975501113585,\n",
              " 0.45657015590200445,\n",
              " 0.5434298440979956]"
            ]
          },
          "metadata": {},
          "execution_count": 17
        }
      ]
    },
    {
      "cell_type": "code",
      "source": [
        "scores_rf"
      ],
      "metadata": {
        "colab": {
          "base_uri": "https://localhost:8080/"
        },
        "id": "HvIaJRZ0r9PY",
        "outputId": "2893b283-0c0e-43cb-cee1-24725874286f"
      },
      "execution_count": 18,
      "outputs": [
        {
          "output_type": "execute_result",
          "data": {
            "text/plain": [
              "[0.9577777777777777,\n",
              " 0.9198218262806236,\n",
              " 0.9576837416481069,\n",
              " 0.9198218262806236]"
            ]
          },
          "metadata": {},
          "execution_count": 18
        }
      ]
    },
    {
      "cell_type": "code",
      "source": [
        "# Calculate average scores for each model\n",
        "avg_score_l = np.mean(scores_l)\n",
        "avg_score_svm = np.mean(scores_svm)\n",
        "avg_score_rf = np.mean(scores_rf)\n",
        "\n",
        "# Print average scores\n",
        "print(\"Average Score - Logistic Regression:\", avg_score_l)\n",
        "print(\"Average Score - SVM:\", avg_score_svm)\n",
        "print(\"Average Score - Random Forest:\", avg_score_rf)\n",
        "\n",
        "# Identify the best model\n",
        "best_model = max([(avg_score_l, 'Logistic Regression'),\n",
        "                  (avg_score_svm, 'SVM'),\n",
        "                  (avg_score_rf, 'Random Forest')])\n",
        "\n",
        "print(\"Best Performing Model:\", best_model[1])"
      ],
      "metadata": {
        "colab": {
          "base_uri": "https://localhost:8080/"
        },
        "id": "dT90mZHBtxSQ",
        "outputId": "2a77ec2a-9f70-45cd-c022-9c9db6a77104"
      },
      "execution_count": 19,
      "outputs": [
        {
          "output_type": "stream",
          "name": "stdout",
          "text": [
            "Average Score - Logistic Regression: 0.928214550853749\n",
            "Average Score - SVM: 0.4757918831972284\n",
            "Average Score - Random Forest: 0.938776292996783\n",
            "Best Performing Model: Random Forest\n"
          ]
        }
      ]
    },
    {
      "cell_type": "code",
      "source": [
        "from sklearn.model_selection import cross_val_score"
      ],
      "metadata": {
        "id": "Ja4tbEKuJUTC"
      },
      "execution_count": 20,
      "outputs": []
    },
    {
      "cell_type": "code",
      "source": [
        "cross_val_score(LogisticRegression(max_iter=5000),digits.data,digits.target)"
      ],
      "metadata": {
        "colab": {
          "base_uri": "https://localhost:8080/"
        },
        "id": "cnelGwj5J-m2",
        "outputId": "6d4b3fab-7208-440f-ced4-38bfae022f94"
      },
      "execution_count": 24,
      "outputs": [
        {
          "output_type": "execute_result",
          "data": {
            "text/plain": [
              "array([0.925     , 0.87777778, 0.93871866, 0.93314763, 0.89693593])"
            ]
          },
          "metadata": {},
          "execution_count": 24
        }
      ]
    },
    {
      "cell_type": "code",
      "source": [
        "cross_val_score(RandomForestClassifier(n_estimators=60),digits.data,digits.target)"
      ],
      "metadata": {
        "colab": {
          "base_uri": "https://localhost:8080/"
        },
        "id": "1KfavRiALkNJ",
        "outputId": "ea4c0529-6241-4ce1-c981-a566549bd4d2"
      },
      "execution_count": 25,
      "outputs": [
        {
          "output_type": "execute_result",
          "data": {
            "text/plain": [
              "array([0.92222222, 0.90277778, 0.96100279, 0.97771588, 0.92479109])"
            ]
          },
          "metadata": {},
          "execution_count": 25
        }
      ]
    },
    {
      "cell_type": "code",
      "source": [
        "cross_val_score(SVC(),digits.data,digits.target)"
      ],
      "metadata": {
        "colab": {
          "base_uri": "https://localhost:8080/"
        },
        "id": "LTgb0Dh2L7D5",
        "outputId": "6127dfad-fffc-4220-9530-8a72599c635c"
      },
      "execution_count": 26,
      "outputs": [
        {
          "output_type": "execute_result",
          "data": {
            "text/plain": [
              "array([0.96111111, 0.94444444, 0.98328691, 0.98885794, 0.93871866])"
            ]
          },
          "metadata": {},
          "execution_count": 26
        }
      ]
    }
  ]
}