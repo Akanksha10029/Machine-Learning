{
  "nbformat": 4,
  "nbformat_minor": 0,
  "metadata": {
    "colab": {
      "provenance": []
    },
    "kernelspec": {
      "name": "python3",
      "display_name": "Python 3"
    },
    "language_info": {
      "name": "python"
    }
  },
  "cells": [
    {
      "cell_type": "code",
      "execution_count": 2,
      "metadata": {
        "id": "XsT-XOAZRW_7"
      },
      "outputs": [],
      "source": [
        "import numpy as np\n",
        "from sklearn.linear_model import LogisticRegression\n",
        "from sklearn.tree import DecisionTreeClassifier\n",
        "from sklearn.model_selection import cross_val_score\n",
        "from sklearn.svm import SVC\n",
        "from sklearn.ensemble import RandomForestClassifier\n",
        "from sklearn.datasets import load_iris"
      ]
    },
    {
      "cell_type": "code",
      "source": [
        "iris=load_iris()"
      ],
      "metadata": {
        "id": "fiXFwA49Sqbl"
      },
      "execution_count": 4,
      "outputs": []
    },
    {
      "cell_type": "markdown",
      "source": [
        "#LogisticRegrssion"
      ],
      "metadata": {
        "id": "W8CkK86feSd5"
      }
    },
    {
      "cell_type": "code",
      "source": [
        "lr_scores = cross_val_score(LogisticRegression(max_iter=1000), iris.data, iris.target)\n",
        "lr_scores"
      ],
      "metadata": {
        "colab": {
          "base_uri": "https://localhost:8080/"
        },
        "id": "rBgv5KcIS0Ks",
        "outputId": "ffe84d6e-e4f2-4adb-e72d-e7580f21f71f"
      },
      "execution_count": 6,
      "outputs": [
        {
          "output_type": "execute_result",
          "data": {
            "text/plain": [
              "array([0.96666667, 1.        , 0.93333333, 0.96666667, 1.        ])"
            ]
          },
          "metadata": {},
          "execution_count": 6
        }
      ]
    },
    {
      "cell_type": "code",
      "source": [
        "np.average(lr_scores)"
      ],
      "metadata": {
        "colab": {
          "base_uri": "https://localhost:8080/"
        },
        "id": "heii_l4aTQiu",
        "outputId": "f681f3a1-9cb8-4913-f8ca-8a7f02a2aa18"
      },
      "execution_count": 8,
      "outputs": [
        {
          "output_type": "execute_result",
          "data": {
            "text/plain": [
              "0.9733333333333334"
            ]
          },
          "metadata": {},
          "execution_count": 8
        }
      ]
    },
    {
      "cell_type": "markdown",
      "source": [
        "#DecisionTreeClassifier"
      ],
      "metadata": {
        "id": "i-x6NYwbeWzu"
      }
    },
    {
      "cell_type": "code",
      "source": [
        "dt_scores = cross_val_score(DecisionTreeClassifier(), iris.data, iris.target)\n",
        "dt_scores"
      ],
      "metadata": {
        "colab": {
          "base_uri": "https://localhost:8080/"
        },
        "id": "FIc4rvLzTlA-",
        "outputId": "a7ac1728-6fa5-4a3a-fdf5-529e171ced8c"
      },
      "execution_count": 9,
      "outputs": [
        {
          "output_type": "execute_result",
          "data": {
            "text/plain": [
              "array([0.96666667, 0.96666667, 0.9       , 0.96666667, 1.        ])"
            ]
          },
          "metadata": {},
          "execution_count": 9
        }
      ]
    },
    {
      "cell_type": "code",
      "source": [
        "np.average(dt_scores)"
      ],
      "metadata": {
        "colab": {
          "base_uri": "https://localhost:8080/"
        },
        "id": "ucZ5gFNKTz4-",
        "outputId": "7d6dff4f-b44d-4031-8f0f-eff9f94eba89"
      },
      "execution_count": 10,
      "outputs": [
        {
          "output_type": "execute_result",
          "data": {
            "text/plain": [
              "0.9600000000000002"
            ]
          },
          "metadata": {},
          "execution_count": 10
        }
      ]
    },
    {
      "cell_type": "markdown",
      "source": [
        "#SVM"
      ],
      "metadata": {
        "id": "MR6qPH_5ecCl"
      }
    },
    {
      "cell_type": "code",
      "source": [
        "svm_scores = cross_val_score(SVC(), iris.data, iris.target)\n",
        "svm_scores"
      ],
      "metadata": {
        "colab": {
          "base_uri": "https://localhost:8080/"
        },
        "id": "AWnCb8z5T5VY",
        "outputId": "e2e404ab-e92c-45df-a85a-2d2f66b74453"
      },
      "execution_count": 11,
      "outputs": [
        {
          "output_type": "execute_result",
          "data": {
            "text/plain": [
              "array([0.96666667, 0.96666667, 0.96666667, 0.93333333, 1.        ])"
            ]
          },
          "metadata": {},
          "execution_count": 11
        }
      ]
    },
    {
      "cell_type": "code",
      "source": [
        "np.average(svm_scores)"
      ],
      "metadata": {
        "colab": {
          "base_uri": "https://localhost:8080/"
        },
        "id": "ajAE85g5UERj",
        "outputId": "e5093201-977f-4480-e1c5-5f5ca3caf887"
      },
      "execution_count": 13,
      "outputs": [
        {
          "output_type": "execute_result",
          "data": {
            "text/plain": [
              "0.9666666666666666"
            ]
          },
          "metadata": {},
          "execution_count": 13
        }
      ]
    },
    {
      "cell_type": "markdown",
      "source": [
        "#RandomForestClassifier"
      ],
      "metadata": {
        "id": "AYtkDcNfefaA"
      }
    },
    {
      "cell_type": "code",
      "source": [
        "rf_scores = cross_val_score(RandomForestClassifier(n_estimators=30), iris.data, iris.target)\n",
        "rf_scores"
      ],
      "metadata": {
        "colab": {
          "base_uri": "https://localhost:8080/"
        },
        "id": "4B3epIlHUOJP",
        "outputId": "85e68166-ab1f-449b-d77c-1abadcf06a12"
      },
      "execution_count": 23,
      "outputs": [
        {
          "output_type": "execute_result",
          "data": {
            "text/plain": [
              "array([0.96666667, 0.96666667, 0.93333333, 0.96666667, 1.        ])"
            ]
          },
          "metadata": {},
          "execution_count": 23
        }
      ]
    },
    {
      "cell_type": "code",
      "source": [
        "np.average(rf_scores)"
      ],
      "metadata": {
        "colab": {
          "base_uri": "https://localhost:8080/"
        },
        "id": "Nlxl8tAdUo8I",
        "outputId": "1356210b-feed-41bb-8bba-dc6d9be48861"
      },
      "execution_count": 24,
      "outputs": [
        {
          "output_type": "execute_result",
          "data": {
            "text/plain": [
              "0.9666666666666668"
            ]
          },
          "metadata": {},
          "execution_count": 24
        }
      ]
    },
    {
      "cell_type": "markdown",
      "source": [
        "**Here above the Best score so far is from LogisticRegression: 0.9733333333333334**"
      ],
      "metadata": {
        "id": "0GCT5k-SdU2S"
      }
    },
    {
      "cell_type": "markdown",
      "source": [
        "#Instead of finding best score individually, we can make a function in this way:"
      ],
      "metadata": {
        "id": "-LWWwa21dsq-"
      }
    },
    {
      "cell_type": "code",
      "source": [
        "import numpy as np\n",
        "from sklearn.model_selection import cross_val_score\n",
        "from sklearn.datasets import load_iris\n",
        "from sklearn.linear_model import LogisticRegression\n",
        "from sklearn.tree import DecisionTreeClassifier\n",
        "from sklearn.svm import SVC\n",
        "from sklearn.ensemble import RandomForestClassifier\n",
        "\n",
        "# Load the iris dataset\n",
        "iris = load_iris()\n",
        "\n",
        "# Define a list of classifiers\n",
        "classifiers = [\n",
        "    LogisticRegression(max_iter=1000),\n",
        "    DecisionTreeClassifier(),\n",
        "    SVC(),\n",
        "    RandomForestClassifier(n_estimators=30)\n",
        "]\n",
        "\n",
        "# Function to calculate average score for a classifier\n",
        "def get_avg_score(classifier, data, target):\n",
        "    scores = cross_val_score(classifier, data, target)\n",
        "    return np.average(scores)\n",
        "\n",
        "# Calculate average scores for each classifier\n",
        "avg_scores = [get_avg_score(clf, iris.data, iris.target) for clf in classifiers]\n",
        "\n",
        "# Find the best score and corresponding classifier index\n",
        "best_score_index = np.argmax(avg_scores)\n",
        "best_score = avg_scores[best_score_index]\n",
        "best_classifier = classifiers[best_score_index]\n",
        "\n",
        "# Print the best score and corresponding classifier\n",
        "print(f\"Best average score: {best_score}\")\n",
        "print(f\"Corresponding classifier: {best_classifier}\")\n"
      ],
      "metadata": {
        "colab": {
          "base_uri": "https://localhost:8080/"
        },
        "id": "_ICaBvb7ZGQH",
        "outputId": "4668cfa6-f3fc-4b20-ed1b-346ced7b98c9"
      },
      "execution_count": 25,
      "outputs": [
        {
          "output_type": "stream",
          "name": "stdout",
          "text": [
            "Best average score: 0.9733333333333334\n",
            "Corresponding classifier: LogisticRegression(max_iter=1000)\n"
          ]
        }
      ]
    }
  ]
}